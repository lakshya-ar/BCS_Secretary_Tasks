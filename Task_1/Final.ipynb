{
  "nbformat": 4,
  "nbformat_minor": 0,
  "metadata": {
    "colab": {
      "provenance": [],
      "gpuType": "T4"
    },
    "kernelspec": {
      "name": "python3",
      "display_name": "Python 3"
    },
    "language_info": {
      "name": "python"
    },
    "accelerator": "GPU"
  },
  "cells": [
    {
      "cell_type": "markdown",
      "source": [
        "# **Importing Libraries:**"
      ],
      "metadata": {
        "id": "7e7-nVMIeHFX"
      }
    },
    {
      "cell_type": "code",
      "execution_count": 13,
      "metadata": {
        "id": "6r7NXLMRWZ8Z"
      },
      "outputs": [],
      "source": [
        "import numpy as np\n",
        "import matplotlib.pyplot as plt\n",
        "import tensorflow as tf\n",
        "from keras.layers import Dense\n",
        "from keras.models import Sequential\n",
        "from keras.optimizers import Adam\n",
        "from keras import callbacks\n",
        "from scipy.integrate import solve_ivp\n",
        "from sklearn.metrics import mean_absolute_error"
      ]
    },
    {
      "cell_type": "markdown",
      "source": [
        "## **Initializing the Variables:**"
      ],
      "metadata": {
        "id": "i1qpguwed8a-"
      }
    },
    {
      "cell_type": "code",
      "source": [
        "m_1 = float(input(\"Enter the mass of 1st body:\\n\"))\n",
        "m_2 = float(input(\"Enter the mass of 2nd body:\\n\"))\n",
        "\n",
        "x_1 = np.array(input(\"Enter the coordinates of 1st body:\\n\").split(','), float)\n",
        "x_2 = np.array(input(\"Enter the coordinates of 2nd body:\\n\").split(','), float)\n",
        "\n",
        "v_1 = np.array(input(\"Enter the velocity vector of 1st body:\\n\").split(','), float)\n",
        "v_2 = np.array(input(\"Enter the velocity vector of 2nd body:\\n\").split(','), float)\n",
        "\n",
        "t=float(input(\"Enter the time at which you want the positions:\\n\"))\n"
      ],
      "metadata": {
        "colab": {
          "base_uri": "https://localhost:8080/"
        },
        "id": "JfIPn4lQWos_",
        "outputId": "a64ec72d-196e-4c47-a979-c3d558e67b1d"
      },
      "execution_count": 14,
      "outputs": [
        {
          "name": "stdout",
          "output_type": "stream",
          "text": [
            "Enter the mass of 1st body:\n",
            "3456\n",
            "Enter the mass of 2nd body:\n",
            "23456789\n",
            "Enter the coordinates of 1st body:\n",
            "8765, 43113\n",
            "Enter the coordinates of 2nd body:\n",
            "32134, 23552\n",
            "Enter the velocity vector of 1st body:\n",
            "34567, 6789\n",
            "Enter the velocity vector of 2nd body:\n",
            "876543, 425638\n",
            "Enter the time at which you want the positions:\n",
            "134\n"
          ]
        }
      ]
    },
    {
      "cell_type": "markdown",
      "source": [
        "# **Generating the Training dataset:**"
      ],
      "metadata": {
        "id": "FRS5NJ-ieR-X"
      }
    },
    {
      "cell_type": "code",
      "source": [
        "n_train=20000\n",
        "t_train = np.linspace(0,t,num=n_train)\n",
        "t_mean_train, t_std_train = np.mean(t_train), np.std(t_train)\n",
        "t_train_norm = (t_train - t_mean_train) / t_std_train\n",
        "\n",
        "G=6.67e-11\n",
        "def final_vel_acc(t, y, m1, m2):\n",
        "  x1, y1, x2, y2, vx1, vy1, vx2, vy2 = y\n",
        "  dx=x2-x1\n",
        "  dy=y2-y1\n",
        "  r=np.sqrt(dx**2+dy**2)\n",
        "  ax1=G*m2*dx/(r**3)\n",
        "  ay1=G*m2*dy/(r**3)\n",
        "  ax2=-G*m1*dx/(r**3)\n",
        "  ay2=-G*m1*dy/(r**3)\n",
        "  return [vx1, vy1, vx2, vy2, ax1, ay1, ax2, ay2]\n",
        "\n",
        "y_init=[x_1[0], x_1[1], x_2[0], x_2[1], v_1[0], v_1[1], v_2[0], v_2[1]]\n",
        "sol=solve_ivp(final_vel_acc, [0,t], y_init, t_eval=t_train, args=(m_1, m_2))\n",
        "\n",
        "positions_train = np.vstack((sol.y[0], sol.y[1], sol.y[2], sol.y[3])).T\n",
        "pos_mean_train, pos_std_train = np.mean(positions_train, axis=0), np.std(positions_train, axis=0)\n",
        "positions_train_norm = (positions_train - pos_mean_train) / pos_std_train\n",
        "\n",
        "x_1_train=positions_train_norm[:,:2]\n",
        "x_2_train=positions_train_norm[:,2:]\n"
      ],
      "metadata": {
        "id": "5t6e0CXeXFgK"
      },
      "execution_count": 15,
      "outputs": []
    },
    {
      "cell_type": "markdown",
      "source": [
        "# **Creating the Neural Network**"
      ],
      "metadata": {
        "id": "lpBJPhWn4a8c"
      }
    },
    {
      "cell_type": "code",
      "source": [
        "early_stopping = callbacks.EarlyStopping(\n",
        "    monitor='val_loss',\n",
        "    patience=20,\n",
        "    restore_best_weights=True,\n",
        ")\n",
        "\n",
        "model = Sequential()\n",
        "model.add(Dense(128, activation='tanh', input_shape=(1,)))\n",
        "model.add(Dense(128, activation='tanh'))\n",
        "model.add(Dense(128, activation='tanh'))\n",
        "model.add(Dense(4))"
      ],
      "metadata": {
        "id": "OMk4_SgS9ydw",
        "colab": {
          "base_uri": "https://localhost:8080/"
        },
        "outputId": "7346f1a0-d5eb-484e-d2f4-b985aa41cee5"
      },
      "execution_count": 16,
      "outputs": [
        {
          "output_type": "stream",
          "name": "stderr",
          "text": [
            "/usr/local/lib/python3.11/dist-packages/keras/src/layers/core/dense.py:87: UserWarning: Do not pass an `input_shape`/`input_dim` argument to a layer. When using Sequential models, prefer using an `Input(shape)` object as the first layer in the model instead.\n",
            "  super().__init__(activity_regularizer=activity_regularizer, **kwargs)\n"
          ]
        }
      ]
    },
    {
      "cell_type": "markdown",
      "source": [
        "# **Compiling and Training the Network**"
      ],
      "metadata": {
        "id": "5GAr4ide--dg"
      }
    },
    {
      "cell_type": "code",
      "source": [
        "opt = Adam(learning_rate=0.001, clipvalue=1.0)\n",
        "model.compile(optimizer = opt, loss = 'mse', metrics=['mae'])\n",
        "history = model.fit(t_train_norm, positions_train_norm, batch_size = 32, epochs =500, callbacks=[early_stopping], validation_split=0.2)"
      ],
      "metadata": {
        "colab": {
          "base_uri": "https://localhost:8080/"
        },
        "id": "A52OCKYL_DzY",
        "outputId": "655d277c-0d27-41a0-c94e-20cda2c049be"
      },
      "execution_count": 17,
      "outputs": [
        {
          "output_type": "stream",
          "name": "stdout",
          "text": [
            "Epoch 1/500\n",
            "\u001b[1m500/500\u001b[0m \u001b[32m━━━━━━━━━━━━━━━━━━━━\u001b[0m\u001b[37m\u001b[0m \u001b[1m3s\u001b[0m 4ms/step - loss: 0.0348 - mae: 0.0758 - val_loss: 0.0023 - val_mae: 0.0398\n",
            "Epoch 2/500\n",
            "\u001b[1m500/500\u001b[0m \u001b[32m━━━━━━━━━━━━━━━━━━━━\u001b[0m\u001b[37m\u001b[0m \u001b[1m2s\u001b[0m 4ms/step - loss: 2.9212e-04 - mae: 0.0132 - val_loss: 0.0013 - val_mae: 0.0298\n",
            "Epoch 3/500\n",
            "\u001b[1m500/500\u001b[0m \u001b[32m━━━━━━━━━━━━━━━━━━━━\u001b[0m\u001b[37m\u001b[0m \u001b[1m2s\u001b[0m 3ms/step - loss: 1.5330e-04 - mae: 0.0094 - val_loss: 0.0011 - val_mae: 0.0277\n",
            "Epoch 4/500\n",
            "\u001b[1m500/500\u001b[0m \u001b[32m━━━━━━━━━━━━━━━━━━━━\u001b[0m\u001b[37m\u001b[0m \u001b[1m3s\u001b[0m 3ms/step - loss: 7.6479e-05 - mae: 0.0063 - val_loss: 0.0011 - val_mae: 0.0284\n",
            "Epoch 5/500\n",
            "\u001b[1m500/500\u001b[0m \u001b[32m━━━━━━━━━━━━━━━━━━━━\u001b[0m\u001b[37m\u001b[0m \u001b[1m3s\u001b[0m 3ms/step - loss: 2.9813e-05 - mae: 0.0038 - val_loss: 3.9448e-04 - val_mae: 0.0162\n",
            "Epoch 6/500\n",
            "\u001b[1m500/500\u001b[0m \u001b[32m━━━━━━━━━━━━━━━━━━━━\u001b[0m\u001b[37m\u001b[0m \u001b[1m1s\u001b[0m 3ms/step - loss: 1.2027e-05 - mae: 0.0025 - val_loss: 1.5803e-04 - val_mae: 0.0095\n",
            "Epoch 7/500\n",
            "\u001b[1m500/500\u001b[0m \u001b[32m━━━━━━━━━━━━━━━━━━━━\u001b[0m\u001b[37m\u001b[0m \u001b[1m3s\u001b[0m 3ms/step - loss: 1.5850e-05 - mae: 0.0027 - val_loss: 2.4862e-04 - val_mae: 0.0125\n",
            "Epoch 8/500\n",
            "\u001b[1m500/500\u001b[0m \u001b[32m━━━━━━━━━━━━━━━━━━━━\u001b[0m\u001b[37m\u001b[0m \u001b[1m2s\u001b[0m 4ms/step - loss: 2.6028e-05 - mae: 0.0035 - val_loss: 1.3057e-04 - val_mae: 0.0098\n",
            "Epoch 9/500\n",
            "\u001b[1m500/500\u001b[0m \u001b[32m━━━━━━━━━━━━━━━━━━━━\u001b[0m\u001b[37m\u001b[0m \u001b[1m2s\u001b[0m 3ms/step - loss: 1.1489e-04 - mae: 0.0056 - val_loss: 2.9355e-04 - val_mae: 0.0136\n",
            "Epoch 10/500\n",
            "\u001b[1m500/500\u001b[0m \u001b[32m━━━━━━━━━━━━━━━━━━━━\u001b[0m\u001b[37m\u001b[0m \u001b[1m2s\u001b[0m 3ms/step - loss: 1.5311e-05 - mae: 0.0026 - val_loss: 2.3855e-04 - val_mae: 0.0117\n",
            "Epoch 11/500\n",
            "\u001b[1m500/500\u001b[0m \u001b[32m━━━━━━━━━━━━━━━━━━━━\u001b[0m\u001b[37m\u001b[0m \u001b[1m1s\u001b[0m 3ms/step - loss: 2.8664e-05 - mae: 0.0035 - val_loss: 1.1934e-04 - val_mae: 0.0082\n",
            "Epoch 12/500\n",
            "\u001b[1m500/500\u001b[0m \u001b[32m━━━━━━━━━━━━━━━━━━━━\u001b[0m\u001b[37m\u001b[0m \u001b[1m2s\u001b[0m 3ms/step - loss: 2.4778e-05 - mae: 0.0033 - val_loss: 6.0380e-04 - val_mae: 0.0206\n",
            "Epoch 13/500\n",
            "\u001b[1m500/500\u001b[0m \u001b[32m━━━━━━━━━━━━━━━━━━━━\u001b[0m\u001b[37m\u001b[0m \u001b[1m2s\u001b[0m 3ms/step - loss: 3.8696e-05 - mae: 0.0039 - val_loss: 3.7426e-04 - val_mae: 0.0151\n",
            "Epoch 14/500\n",
            "\u001b[1m500/500\u001b[0m \u001b[32m━━━━━━━━━━━━━━━━━━━━\u001b[0m\u001b[37m\u001b[0m \u001b[1m2s\u001b[0m 3ms/step - loss: 1.8192e-05 - mae: 0.0028 - val_loss: 2.8113e-04 - val_mae: 0.0125\n",
            "Epoch 15/500\n",
            "\u001b[1m500/500\u001b[0m \u001b[32m━━━━━━━━━━━━━━━━━━━━\u001b[0m\u001b[37m\u001b[0m \u001b[1m2s\u001b[0m 3ms/step - loss: 5.4247e-05 - mae: 0.0042 - val_loss: 5.3680e-04 - val_mae: 0.0189\n",
            "Epoch 16/500\n",
            "\u001b[1m500/500\u001b[0m \u001b[32m━━━━━━━━━━━━━━━━━━━━\u001b[0m\u001b[37m\u001b[0m \u001b[1m3s\u001b[0m 3ms/step - loss: 1.3498e-05 - mae: 0.0025 - val_loss: 6.0505e-04 - val_mae: 0.0211\n",
            "Epoch 17/500\n",
            "\u001b[1m500/500\u001b[0m \u001b[32m━━━━━━━━━━━━━━━━━━━━\u001b[0m\u001b[37m\u001b[0m \u001b[1m1s\u001b[0m 3ms/step - loss: 1.7148e-05 - mae: 0.0029 - val_loss: 3.7583e-04 - val_mae: 0.0152\n",
            "Epoch 18/500\n",
            "\u001b[1m500/500\u001b[0m \u001b[32m━━━━━━━━━━━━━━━━━━━━\u001b[0m\u001b[37m\u001b[0m \u001b[1m3s\u001b[0m 4ms/step - loss: 1.8719e-05 - mae: 0.0030 - val_loss: 5.6728e-04 - val_mae: 0.0201\n",
            "Epoch 19/500\n",
            "\u001b[1m500/500\u001b[0m \u001b[32m━━━━━━━━━━━━━━━━━━━━\u001b[0m\u001b[37m\u001b[0m \u001b[1m2s\u001b[0m 3ms/step - loss: 1.4383e-05 - mae: 0.0026 - val_loss: 9.4732e-04 - val_mae: 0.0277\n",
            "Epoch 20/500\n",
            "\u001b[1m500/500\u001b[0m \u001b[32m━━━━━━━━━━━━━━━━━━━━\u001b[0m\u001b[37m\u001b[0m \u001b[1m3s\u001b[0m 3ms/step - loss: 4.0154e-05 - mae: 0.0042 - val_loss: 5.6906e-04 - val_mae: 0.0199\n",
            "Epoch 21/500\n",
            "\u001b[1m500/500\u001b[0m \u001b[32m━━━━━━━━━━━━━━━━━━━━\u001b[0m\u001b[37m\u001b[0m \u001b[1m1s\u001b[0m 3ms/step - loss: 1.7127e-05 - mae: 0.0030 - val_loss: 3.8417e-04 - val_mae: 0.0151\n",
            "Epoch 22/500\n",
            "\u001b[1m500/500\u001b[0m \u001b[32m━━━━━━━━━━━━━━━━━━━━\u001b[0m\u001b[37m\u001b[0m \u001b[1m3s\u001b[0m 3ms/step - loss: 1.7593e-05 - mae: 0.0028 - val_loss: 5.2562e-04 - val_mae: 0.0190\n",
            "Epoch 23/500\n",
            "\u001b[1m500/500\u001b[0m \u001b[32m━━━━━━━━━━━━━━━━━━━━\u001b[0m\u001b[37m\u001b[0m \u001b[1m3s\u001b[0m 4ms/step - loss: 7.3068e-05 - mae: 0.0047 - val_loss: 7.3990e-04 - val_mae: 0.0228\n",
            "Epoch 24/500\n",
            "\u001b[1m500/500\u001b[0m \u001b[32m━━━━━━━━━━━━━━━━━━━━\u001b[0m\u001b[37m\u001b[0m \u001b[1m2s\u001b[0m 3ms/step - loss: 8.2244e-06 - mae: 0.0021 - val_loss: 6.5307e-04 - val_mae: 0.0215\n",
            "Epoch 25/500\n",
            "\u001b[1m500/500\u001b[0m \u001b[32m━━━━━━━━━━━━━━━━━━━━\u001b[0m\u001b[37m\u001b[0m \u001b[1m1s\u001b[0m 3ms/step - loss: 3.0599e-05 - mae: 0.0036 - val_loss: 0.0015 - val_mae: 0.0344\n",
            "Epoch 26/500\n",
            "\u001b[1m500/500\u001b[0m \u001b[32m━━━━━━━━━━━━━━━━━━━━\u001b[0m\u001b[37m\u001b[0m \u001b[1m3s\u001b[0m 3ms/step - loss: 1.3913e-05 - mae: 0.0026 - val_loss: 3.1385e-04 - val_mae: 0.0131\n",
            "Epoch 27/500\n",
            "\u001b[1m500/500\u001b[0m \u001b[32m━━━━━━━━━━━━━━━━━━━━\u001b[0m\u001b[37m\u001b[0m \u001b[1m3s\u001b[0m 3ms/step - loss: 1.2694e-05 - mae: 0.0024 - val_loss: 4.2174e-04 - val_mae: 0.0157\n",
            "Epoch 28/500\n",
            "\u001b[1m500/500\u001b[0m \u001b[32m━━━━━━━━━━━━━━━━━━━━\u001b[0m\u001b[37m\u001b[0m \u001b[1m3s\u001b[0m 3ms/step - loss: 2.1727e-05 - mae: 0.0032 - val_loss: 6.0552e-04 - val_mae: 0.0202\n",
            "Epoch 29/500\n",
            "\u001b[1m500/500\u001b[0m \u001b[32m━━━━━━━━━━━━━━━━━━━━\u001b[0m\u001b[37m\u001b[0m \u001b[1m3s\u001b[0m 3ms/step - loss: 3.3033e-05 - mae: 0.0038 - val_loss: 5.4505e-04 - val_mae: 0.0186\n",
            "Epoch 30/500\n",
            "\u001b[1m500/500\u001b[0m \u001b[32m━━━━━━━━━━━━━━━━━━━━\u001b[0m\u001b[37m\u001b[0m \u001b[1m1s\u001b[0m 3ms/step - loss: 1.7480e-05 - mae: 0.0028 - val_loss: 6.6224e-04 - val_mae: 0.0211\n",
            "Epoch 31/500\n",
            "\u001b[1m500/500\u001b[0m \u001b[32m━━━━━━━━━━━━━━━━━━━━\u001b[0m\u001b[37m\u001b[0m \u001b[1m3s\u001b[0m 3ms/step - loss: 5.1234e-05 - mae: 0.0044 - val_loss: 5.5615e-04 - val_mae: 0.0187\n"
          ]
        }
      ]
    },
    {
      "cell_type": "markdown",
      "source": [
        "# **Generating the test dataset:**"
      ],
      "metadata": {
        "id": "QZ0r_0b69Ssr"
      }
    },
    {
      "cell_type": "code",
      "source": [
        "n_test=2000\n",
        "t_test = np.linspace(0,t,num=n_test)\n",
        "t_mean_test, t_std_test = np.mean(t_test), np.std(t_test)\n",
        "t_test_norm = (t_test - t_mean_test) / t_std_test\n",
        "\n",
        "sol=solve_ivp(final_vel_acc, [0,t], y_init, t_eval=t_test, args=(m_1, m_2))\n",
        "\n",
        "positions_test = np.vstack((sol.y[0], sol.y[1], sol.y[2], sol.y[3])).T\n",
        "pos_mean_test, pos_std_test = np.mean(positions_test, axis=0), np.std(positions_test, axis=0)\n",
        "positions_test_norm = (positions_test - pos_mean_test) / pos_std_test\n",
        "\n",
        "x_1_test=positions_test_norm[:,0:2]\n",
        "x_2_test=positions_test_norm[:,2:4]\n"
      ],
      "metadata": {
        "id": "ExQ3N2Zk9Sss"
      },
      "execution_count": 18,
      "outputs": []
    },
    {
      "cell_type": "markdown",
      "source": [
        "# **Running the model on testing dataset:**"
      ],
      "metadata": {
        "id": "MZw-aFS74_hY"
      }
    },
    {
      "cell_type": "code",
      "source": [
        "y_pred_test=model.predict(t_test_norm)\n",
        "x_1_pred_test=y_pred_test[:,0:2]\n",
        "x_2_pred_test=y_pred_test[:,2:4]\n",
        "mae_x_1 = mean_absolute_error(x_1_test, x_1_pred_test)\n",
        "mae_x_2 = mean_absolute_error(x_2_test, x_2_pred_test)\n",
        "print(\"Mean absolute error for body 1 and body 2 :\\n\", mae_x_1 , mae_x_2)"
      ],
      "metadata": {
        "colab": {
          "base_uri": "https://localhost:8080/"
        },
        "id": "ao04hzvgZ5zk",
        "outputId": "93e1b38a-474a-4937-c073-8ccf81e1a1f6"
      },
      "execution_count": 19,
      "outputs": [
        {
          "output_type": "stream",
          "name": "stdout",
          "text": [
            "\u001b[1m63/63\u001b[0m \u001b[32m━━━━━━━━━━━━━━━━━━━━\u001b[0m\u001b[37m\u001b[0m \u001b[1m0s\u001b[0m 5ms/step\n",
            "Mean absolute error for body 1 and body 2 :\n",
            " 0.004973098739283912 0.004503959492256297\n"
          ]
        }
      ]
    },
    {
      "cell_type": "markdown",
      "source": [
        "# **Final Prediction**"
      ],
      "metadata": {
        "id": "KPw-WmUjA0uk"
      }
    },
    {
      "cell_type": "code",
      "source": [
        "t_input = np.array([t])\n",
        "t_input_norm = (t_input - t_mean_train) / t_std_train\n",
        "y_pred_norm = model.predict(t_input_norm)\n",
        "y_pred = y_pred_norm * pos_std_train + pos_mean_train\n",
        "\n",
        "x_1_pred = y_pred[0][:2]\n",
        "x_2_pred = y_pred[0][2:]\n",
        "\n",
        "print(\"Position of body 1:\", x_1_pred)\n",
        "print(\"Position of body 2:\", x_2_pred)"
      ],
      "metadata": {
        "id": "cL8IL4OMA5Gi",
        "colab": {
          "base_uri": "https://localhost:8080/"
        },
        "outputId": "1ecf0d8d-901f-4727-d645-3aadd23098c2"
      },
      "execution_count": 20,
      "outputs": [
        {
          "output_type": "stream",
          "name": "stdout",
          "text": [
            "\u001b[1m1/1\u001b[0m \u001b[32m━━━━━━━━━━━━━━━━━━━━\u001b[0m\u001b[37m\u001b[0m \u001b[1m0s\u001b[0m 127ms/step\n",
            "Position of body 1: [4609434.35959631  949478.71447008]\n",
            "Position of body 2: [1.16485219e+08 5.65204824e+07]\n"
          ]
        }
      ]
    }
  ]
}